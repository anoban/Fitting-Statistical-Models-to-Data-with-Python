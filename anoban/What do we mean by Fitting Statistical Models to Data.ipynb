{
 "cells": [
  {
   "cell_type": "code",
   "execution_count": 10,
   "id": "72ce8993-74c8-4c39-a765-258a26bee80e",
   "metadata": {
    "execution": {
     "iopub.execute_input": "2023-07-14T14:56:38.004736Z",
     "iopub.status.busy": "2023-07-14T14:56:38.004736Z",
     "iopub.status.idle": "2023-07-14T14:56:38.013735Z",
     "shell.execute_reply": "2023-07-14T14:56:38.013259Z",
     "shell.execute_reply.started": "2023-07-14T14:56:38.004736Z"
    }
   },
   "outputs": [],
   "source": [
    "import numpy as np\n",
    "np.random.seed(2023 - 7 - 14)\n",
    "import pandas as pd\n",
    "import matplotlib.pyplot as plt\n",
    "from scipy.stats import (norm)\n",
    "from sklearn.preprocessing import StandardScaler"
   ]
  },
  {
   "cell_type": "markdown",
   "id": "b07a5739-5ab6-4ff9-9fcc-9cc8e99175b2",
   "metadata": {},
   "source": [
    "# ___What do we mean by \"Fitting Statistical Models to Data?\"___\n",
    "----------------"
   ]
  },
  {
   "cell_type": "code",
   "execution_count": 1,
   "id": "61240390-84db-4bcb-9084-6f50d1edacc4",
   "metadata": {
    "execution": {
     "iopub.execute_input": "2023-07-14T14:24:26.088549Z",
     "iopub.status.busy": "2023-07-14T14:24:26.088549Z",
     "iopub.status.idle": "2023-07-14T14:24:26.095905Z",
     "shell.execute_reply": "2023-07-14T14:24:26.094646Z",
     "shell.execute_reply.started": "2023-07-14T14:24:26.088549Z"
    }
   },
   "outputs": [],
   "source": [
    "# We fit statistical models to data, in an attempt to answer our research questions.\n",
    "# WE ARE NOT FITTING DATA TO MODELS!\n",
    "# WE ARE FITTING MODELS TO DATA!.."
   ]
  },
  {
   "cell_type": "code",
   "execution_count": 2,
   "id": "2378a14b-b7f8-4b8c-bd9b-5acad7dc76dd",
   "metadata": {
    "execution": {
     "iopub.execute_input": "2023-07-14T14:25:11.334202Z",
     "iopub.status.busy": "2023-07-14T14:25:11.334202Z",
     "iopub.status.idle": "2023-07-14T14:25:11.347341Z",
     "shell.execute_reply": "2023-07-14T14:25:11.347163Z",
     "shell.execute_reply.started": "2023-07-14T14:25:11.334202Z"
    }
   },
   "outputs": [],
   "source": [
    "# WE SPECIFY MODELS BASED ON THEORY, AND USE THE MODELS TO DISCERN INSIGHTS FROM THE DATA."
   ]
  },
  {
   "cell_type": "code",
   "execution_count": 3,
   "id": "caacf8d1-1306-46eb-b6b9-f36e07f64ed9",
   "metadata": {
    "execution": {
     "iopub.execute_input": "2023-07-14T14:29:24.476228Z",
     "iopub.status.busy": "2023-07-14T14:29:24.476228Z",
     "iopub.status.idle": "2023-07-14T14:29:24.482251Z",
     "shell.execute_reply": "2023-07-14T14:29:24.481851Z",
     "shell.execute_reply.started": "2023-07-14T14:29:24.476228Z"
    }
   },
   "outputs": [],
   "source": [
    "# What's the purpose of fitting models to data?\n",
    "\n",
    "# 1) Estimation of the distributional proporties of different variables.\n",
    "# potentially conditional or dependent on other variables.\n",
    "\n",
    "# 2) Summarization of relationships between variables, and make inferences about such relations.\n",
    "\n",
    "# 3) Making predictions, based on predictor variables and characterize prediction uncertainty."
   ]
  },
  {
   "cell_type": "code",
   "execution_count": 4,
   "id": "d6e9a1a4-86e0-4648-b62d-71796248dee2",
   "metadata": {
    "execution": {
     "iopub.execute_input": "2023-07-14T14:36:13.163608Z",
     "iopub.status.busy": "2023-07-14T14:36:13.163608Z",
     "iopub.status.idle": "2023-07-14T14:36:13.173490Z",
     "shell.execute_reply": "2023-07-14T14:36:13.172478Z",
     "shell.execute_reply.started": "2023-07-14T14:36:13.163608Z"
    }
   },
   "outputs": [],
   "source": [
    "# This course will focus on PARAMETRIC MODELS!\n",
    "# Models that learn parameters from the training data, which could conceptually summarize the distributions of the variables in the dataset.\n",
    "\n",
    "# When given variables like blood pressure, exam scores, GPA values we'd assume that these values follow some pre-defined distributions.\n",
    "# in other words, a probaility model.\n",
    "# e.g. the standard normal distribution is a parametric model, that is defined using two parameters: std = 1 and mean = 0\n",
    "\n",
    "# Fitting a normal distribution to a continuous variable is an example for model fitting."
   ]
  },
  {
   "cell_type": "code",
   "execution_count": 5,
   "id": "0ca33e2e-8fa8-4f12-9092-618b98ad7e53",
   "metadata": {
    "execution": {
     "iopub.execute_input": "2023-07-14T14:37:43.033576Z",
     "iopub.status.busy": "2023-07-14T14:37:43.033576Z",
     "iopub.status.idle": "2023-07-14T14:37:43.052508Z",
     "shell.execute_reply": "2023-07-14T14:37:43.051462Z",
     "shell.execute_reply.started": "2023-07-14T14:37:43.033576Z"
    }
   },
   "outputs": [],
   "source": [
    "# We estimate the model parameters (in ML terms, the attributes learned by the model) and pair them with sampling variance to \n",
    "# make inferences about our learned parameters!\n",
    "\n",
    "# THIS IS JUST ML IN DISGUISE OR PERHAPS THE OTHER WAY AROUND!."
   ]
  },
  {
   "cell_type": "code",
   "execution_count": null,
   "id": "c7be508b-9515-42cd-bed6-986f0e4a4e2c",
   "metadata": {},
   "outputs": [],
   "source": []
  },
  {
   "cell_type": "markdown",
   "id": "345d7bd5-15c6-412f-8093-7084916abebe",
   "metadata": {},
   "source": [
    "## ___Example: Test Performance and Age___\n",
    "--------------------"
   ]
  },
  {
   "cell_type": "code",
   "execution_count": 8,
   "id": "863e5375-2e1e-48d9-85a2-dc3e4b79073b",
   "metadata": {
    "execution": {
     "iopub.execute_input": "2023-07-14T14:44:06.284322Z",
     "iopub.status.busy": "2023-07-14T14:44:06.284322Z",
     "iopub.status.idle": "2023-07-14T14:44:06.290229Z",
     "shell.execute_reply": "2023-07-14T14:44:06.290229Z",
     "shell.execute_reply.started": "2023-07-14T14:44:06.284322Z"
    }
   },
   "outputs": [],
   "source": [
    "# Say that we are interested in the relationship between students' test performance and their age.\n",
    "# The possible predictor that we are interested in is the students' age.\n",
    "# Predictor is a variable that has the potential to significantly influence the target variable.\n",
    "\n",
    "# We want to know whether age could predict test performance?\n",
    "# What is the relationship between age and test scores? does scores increase with age? or the other way around? or \n",
    "# is there even a tangible correlation?"
   ]
  },
  {
   "cell_type": "code",
   "execution_count": null,
   "id": "5adb9007-16e8-4a38-9c40-cd6273799501",
   "metadata": {},
   "outputs": [],
   "source": []
  },
  {
   "cell_type": "code",
   "execution_count": null,
   "id": "dccd16e7-fcd3-4e5b-a194-715f2afb5ed6",
   "metadata": {},
   "outputs": [],
   "source": [
    "# GOALS:\n",
    "# 1) Estimate the marginal mean score across all ages.\n",
    "# 2) Estimate marginal mean score conditionalaon age."
   ]
  }
 ],
 "metadata": {
  "kernelspec": {
   "display_name": "Python 3 (ipykernel)",
   "language": "python",
   "name": "python3"
  },
  "language_info": {
   "codemirror_mode": {
    "name": "ipython",
    "version": 3
   },
   "file_extension": ".py",
   "mimetype": "text/x-python",
   "name": "python",
   "nbconvert_exporter": "python",
   "pygments_lexer": "ipython3",
   "version": "3.11.4"
  }
 },
 "nbformat": 4,
 "nbformat_minor": 5
}
