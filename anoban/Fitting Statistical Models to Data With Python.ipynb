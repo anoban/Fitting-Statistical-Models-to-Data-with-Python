{
 "cells": [
  {
   "cell_type": "code",
   "execution_count": 1,
   "id": "7024ed5b-8277-4d1b-85fc-cffa6fd82c40",
   "metadata": {
    "execution": {
     "iopub.execute_input": "2023-07-14T14:15:38.055504Z",
     "iopub.status.busy": "2023-07-14T14:15:38.055504Z",
     "iopub.status.idle": "2023-07-14T14:15:38.062689Z",
     "shell.execute_reply": "2023-07-14T14:15:38.062593Z",
     "shell.execute_reply.started": "2023-07-14T14:15:38.055504Z"
    }
   },
   "outputs": [],
   "source": [
    "# I'm going to use Scipy and Scikit-Learn, and not going to involve statsmodels at all!"
   ]
  },
  {
   "cell_type": "markdown",
   "id": "109bcdfa-901f-46f7-bc7b-7f1e6593c9f7",
   "metadata": {},
   "source": [
    "# ___Fitting Statistical Models to Data With Python___\n",
    "--------------"
   ]
  },
  {
   "cell_type": "code",
   "execution_count": 2,
   "id": "c38de499-c945-4255-b104-25a77d7f3f39",
   "metadata": {
    "execution": {
     "iopub.execute_input": "2023-07-14T14:18:35.318635Z",
     "iopub.status.busy": "2023-07-14T14:18:35.318635Z",
     "iopub.status.idle": "2023-07-14T14:18:35.330812Z",
     "shell.execute_reply": "2023-07-14T14:18:35.329804Z",
     "shell.execute_reply.started": "2023-07-14T14:18:35.318635Z"
    }
   },
   "outputs": [],
   "source": [
    "# That's all tada!"
   ]
  },
  {
   "cell_type": "code",
   "execution_count": null,
   "id": "a7c6ce32-aadc-48c0-b87b-a3202d3afb69",
   "metadata": {},
   "outputs": [],
   "source": []
  }
 ],
 "metadata": {
  "kernelspec": {
   "display_name": "Python 3 (ipykernel)",
   "language": "python",
   "name": "python3"
  },
  "language_info": {
   "codemirror_mode": {
    "name": "ipython",
    "version": 3
   },
   "file_extension": ".py",
   "mimetype": "text/x-python",
   "name": "python",
   "nbconvert_exporter": "python",
   "pygments_lexer": "ipython3",
   "version": "3.11.4"
  }
 },
 "nbformat": 4,
 "nbformat_minor": 5
}
